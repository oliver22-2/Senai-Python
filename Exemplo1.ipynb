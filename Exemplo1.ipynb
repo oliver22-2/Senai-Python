{
  "nbformat": 4,
  "nbformat_minor": 0,
  "metadata": {
    "colab": {
      "provenance": [],
      "authorship_tag": "ABX9TyOkoq1ypJgxx5Wi5M/8C3QH",
      "include_colab_link": true
    },
    "kernelspec": {
      "name": "python3",
      "display_name": "Python 3"
    },
    "language_info": {
      "name": "python"
    }
  },
  "cells": [
    {
      "cell_type": "markdown",
      "metadata": {
        "id": "view-in-github",
        "colab_type": "text"
      },
      "source": [
        "<a href=\"https://colab.research.google.com/github/oliver22-2/aula-1/blob/main/Exemplo1.ipynb\" target=\"_parent\"><img src=\"https://colab.research.google.com/assets/colab-badge.svg\" alt=\"Open In Colab\"/></a>"
      ]
    },
    {
      "cell_type": "code",
      "execution_count": 1,
      "metadata": {
        "id": "lCPBJJ1qDGWV"
      },
      "outputs": [],
      "source": [
        "import statistics as st\n",
        "import math as mt"
      ]
    },
    {
      "cell_type": "code",
      "source": [
        "# Geração dos dados\n",
        "compras_app = [\n",
        "    55.20, 78.50, 45.00, 120.30, 62.80, 91.00, 88.40, 50.00, 75.10, 105.00,\n",
        "    60.50, 70.00, 95.00, 110.00, 80.00, 68.20, 59.90, 82.00, 98.70, 72.30,\n",
        "    130.00, 65.00, 85.00, 77.00, 90.00\n",
        "]\n",
        "\n",
        "compras_web = [\n",
        "    40.00, 60.10, 35.50, 80.00, 52.00, 70.00, 65.80, 48.00, 58.90, 72.00,\n",
        "    45.50, 55.00, 68.00, 75.00, 63.00, 42.00, 50.00, 60.00, 71.00, 53.00,\n",
        "    90.00, 49.00, 67.00, 56.00, 69.00, 70.00, 55.00, 62.00, 78.00, 51.00\n",
        "]"
      ],
      "metadata": {
        "id": "sG2SFihnDpvx"
      },
      "execution_count": 3,
      "outputs": []
    },
    {
      "cell_type": "code",
      "source": [
        "print ('--- Dados Simulados---')\n",
        "print ('Compras App: ', compras_app)\n",
        "print ('Compras Web: ', compras_web)\n",
        "print ('\\n')"
      ],
      "metadata": {
        "colab": {
          "base_uri": "https://localhost:8080/"
        },
        "id": "hQ_L8vWzF9Wm",
        "outputId": "2e3a22db-2d8e-4afd-b348-733a0dec6cd1"
      },
      "execution_count": 4,
      "outputs": [
        {
          "output_type": "stream",
          "name": "stdout",
          "text": [
            "--- Dados Simulados---\n",
            "Compras App:  [55.2, 78.5, 45.0, 120.3, 62.8, 91.0, 88.4, 50.0, 75.1, 105.0, 60.5, 70.0, 95.0, 110.0, 80.0, 68.2, 59.9, 82.0, 98.7, 72.3, 130.0, 65.0, 85.0, 77.0, 90.0]\n",
            "Compras Web:  [40.0, 60.1, 35.5, 80.0, 52.0, 70.0, 65.8, 48.0, 58.9, 72.0, 45.5, 55.0, 68.0, 75.0, 63.0, 42.0, 50.0, 60.0, 71.0, 53.0, 90.0, 49.0, 67.0, 56.0, 69.0, 70.0, 55.0, 62.0, 78.0, 51.0]\n",
            "\n",
            "\n"
          ]
        }
      ]
    },
    {
      "cell_type": "code",
      "source": [
        "print ('--- Analise Descitiva Simples---')"
      ],
      "metadata": {
        "colab": {
          "base_uri": "https://localhost:8080/"
        },
        "id": "1_EjDEtnIKVj",
        "outputId": "6f8c04e3-aae1-483c-8641-7216d85beb16"
      },
      "execution_count": 5,
      "outputs": [
        {
          "output_type": "stream",
          "name": "stdout",
          "text": [
            "--- Analise Descitiva Simples---\n"
          ]
        }
      ]
    },
    {
      "cell_type": "code",
      "source": [
        "tamanho_amostra = len (compras_app)\n",
        "print ('Tamanho da AmostraApp: ', tamanho_amostra)\n",
        "tamanho_amostra = len (compras_web)\n",
        "print ('Tamanho da AmostraWeb: ', tamanho_amostra)"
      ],
      "metadata": {
        "colab": {
          "base_uri": "https://localhost:8080/"
        },
        "id": "QWuQTZ9gIjnD",
        "outputId": "19a5946a-994a-4e64-9bfa-76f3eabbff94"
      },
      "execution_count": 44,
      "outputs": [
        {
          "output_type": "stream",
          "name": "stdout",
          "text": [
            "Tamanho da AmostraApp:  25\n",
            "Tamanho da AmostraWeb:  30\n"
          ]
        }
      ]
    },
    {
      "cell_type": "code",
      "source": [
        "app_vendas = st.mode (compras_app)\n",
        "print ('App mais vendido: ', app_vendas)\n",
        "web_vendas = st.mode (compras_web)\n",
        "print ('Web mais vendido: ', web_vendas)"
      ],
      "metadata": {
        "colab": {
          "base_uri": "https://localhost:8080/"
        },
        "id": "Y-VltGpHI9kt",
        "outputId": "80c0ae63-ef5a-42d3-c33d-e4ca0fccbc49"
      },
      "execution_count": 46,
      "outputs": [
        {
          "output_type": "stream",
          "name": "stdout",
          "text": [
            "App mais vendido:  55.2\n",
            "Web mais vendido:  70.0\n"
          ]
        }
      ]
    },
    {
      "cell_type": "code",
      "source": [
        "media_app = st.mean (compras_app)\n",
        "print ('Média App: ', media_app)\n",
        "media_web = st.mean (compras_web)\n",
        "print ('Média Web: ', media_web)"
      ],
      "metadata": {
        "colab": {
          "base_uri": "https://localhost:8080/"
        },
        "id": "TOGBDLFQTTy7",
        "outputId": "bcd86d7e-57ab-4594-85a4-ad660ee535a1"
      },
      "execution_count": 33,
      "outputs": [
        {
          "output_type": "stream",
          "name": "stdout",
          "text": [
            "Média App:  80.596\n",
            "Média Web:  60.39333333333333\n"
          ]
        }
      ]
    },
    {
      "cell_type": "code",
      "source": [
        "median_app = st.median (compras_app)\n",
        "print ('Mediana App: ', median_app)\n",
        "median_web = st.median (compras_web)\n",
        "print ('Mediana Web: ', median_web)"
      ],
      "metadata": {
        "colab": {
          "base_uri": "https://localhost:8080/"
        },
        "id": "G6v60DwxUtAp",
        "outputId": "96a3eff5-fbcf-4f9f-e2b3-f7b63aa943f3"
      },
      "execution_count": 34,
      "outputs": [
        {
          "output_type": "stream",
          "name": "stdout",
          "text": [
            "Mediana App:  78.5\n",
            "Mediana Web:  60.05\n"
          ]
        }
      ]
    },
    {
      "cell_type": "code",
      "source": [
        "# App\n",
        "try:\n",
        "  celulares_vendas = st.mode(compras_app)\n",
        "  print (f'Apps mais vendidos', {celulares_vendas})\n",
        "except st.StatisticsError as e:\n",
        "  print('Não foi possivel calcula r os apps (erro: {a})')\n",
        "# Web\n",
        "try:\n",
        "  celulares_vendas = st.mode(compras_web)\n",
        "  print (f'Webs mais vendidos', {celulares_vendas})\n",
        "except st.StatisticsError as e:\n",
        "    print('Não foi possivel calcula r os webs (erro: {a})')"
      ],
      "metadata": {
        "colab": {
          "base_uri": "https://localhost:8080/"
        },
        "id": "Mw83H9ArJH_2",
        "outputId": "9eb8f7bc-fe97-49db-e985-4aa893eba5f9"
      },
      "execution_count": 39,
      "outputs": [
        {
          "output_type": "stream",
          "name": "stdout",
          "text": [
            "Apps mais vendidos {55.2}\n",
            "Webs mais vendidos {70.0}\n"
          ]
        }
      ]
    },
    {
      "cell_type": "code",
      "source": [
        "desvio_padraoApp = st.stdev(compras_app)\n",
        "print ('Desvio PadrãoApp: ', desvio_padraoApp)\n",
        "desvio_padraoWeb = st.stdev(compras_web)\n",
        "print ('Desvio PadrãoWeb: ', desvio_padraoWeb)"
      ],
      "metadata": {
        "colab": {
          "base_uri": "https://localhost:8080/"
        },
        "id": "fXzzW6L0SyLO",
        "outputId": "172cc414-cc7d-492a-95ac-26277a754216"
      },
      "execution_count": 42,
      "outputs": [
        {
          "output_type": "stream",
          "name": "stdout",
          "text": [
            "Desvio PadrãoApp:  21.325248728522098\n",
            "Desvio PadrãoWeb:  12.74513925826798\n"
          ]
        }
      ]
    },
    {
      "cell_type": "code",
      "source": [
        "variancia_vendas = st.variance(compras_app)\n",
        "print ('Variação App: ', variancia_vendas)\n",
        "variancia_vendas = st.variance(compras_web)\n",
        "print ('Variação Web: ', variancia_vendas)\n"
      ],
      "metadata": {
        "colab": {
          "base_uri": "https://localhost:8080/"
        },
        "id": "gaKhZwGCS14M",
        "outputId": "e39f8e97-c7bb-444d-dce6-3f7a6191a45a"
      },
      "execution_count": 43,
      "outputs": [
        {
          "output_type": "stream",
          "name": "stdout",
          "text": [
            "Variação App:  454.76623333333333\n",
            "Variação Web:  162.43857471264369\n"
          ]
        }
      ]
    }
  ]
}