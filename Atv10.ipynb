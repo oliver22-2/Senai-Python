{
  "nbformat": 4,
  "nbformat_minor": 0,
  "metadata": {
    "colab": {
      "provenance": [],
      "authorship_tag": "ABX9TyNE2jGaZB2pmviDjH/R7jBj",
      "include_colab_link": true
    },
    "kernelspec": {
      "name": "python3",
      "display_name": "Python 3"
    },
    "language_info": {
      "name": "python"
    }
  },
  "cells": [
    {
      "cell_type": "markdown",
      "metadata": {
        "id": "view-in-github",
        "colab_type": "text"
      },
      "source": [
        "<a href=\"https://colab.research.google.com/github/oliver22-2/Senai-Python/blob/main/Atv10.ipynb\" target=\"_parent\"><img src=\"https://colab.research.google.com/assets/colab-badge.svg\" alt=\"Open In Colab\"/></a>"
      ]
    },
    {
      "cell_type": "code",
      "source": [
        "import pandas as pd"
      ],
      "metadata": {
        "id": "Td2O5nSjC9vR"
      },
      "execution_count": 8,
      "outputs": []
    },
    {
      "cell_type": "code",
      "source": [
        "# Criação do DataFrame\n",
        "cidades_br = pd.DataFrame({\n",
        "    'Cidade': ['São Paulo', 'Rio de Janeiro', 'Belo Horizonte', 'Porto Alegre', 'Curitiba'],\n",
        "    'Estado': ['SP', 'RJ', 'MG', 'RS', 'PR'],\n",
        "    'População (milhões)': [12.3, 6.7, 2.5, 1.5, 1.9],\n",
        "    'Capital': [True, True, True, True, True]\n",
        "})\n",
        "\n",
        "# Exiba o DataFrame completo\n",
        "print(\"DataFrame completo:\")\n",
        "print(cidades_br)"
      ],
      "metadata": {
        "colab": {
          "base_uri": "https://localhost:8080/"
        },
        "id": "oj2v1EYMFg2K",
        "outputId": "75fd7e4d-4acb-41f9-aaf6-7675343ff674"
      },
      "execution_count": 10,
      "outputs": [
        {
          "output_type": "stream",
          "name": "stdout",
          "text": [
            "DataFrame completo:\n",
            "           Cidade Estado  População (milhões)  Capital\n",
            "0       São Paulo     SP                 12.3     True\n",
            "1  Rio de Janeiro     RJ                  6.7     True\n",
            "2  Belo Horizonte     MG                  2.5     True\n",
            "3    Porto Alegre     RS                  1.5     True\n",
            "4        Curitiba     PR                  1.9     True\n"
          ]
        }
      ]
    },
    {
      "cell_type": "code",
      "source": [
        "# Exiba as 3 primeiras linhas\n",
        "print(\"\\n3 primeiras linhas:\")\n",
        "print(cidades_br.head(3))"
      ],
      "metadata": {
        "colab": {
          "base_uri": "https://localhost:8080/"
        },
        "id": "_BhuIo8tFoIe",
        "outputId": "84c5c797-5a08-470f-ff1f-6b36ba385ef1"
      },
      "execution_count": 25,
      "outputs": [
        {
          "output_type": "stream",
          "name": "stdout",
          "text": [
            "\n",
            "3 primeiras linhas:\n",
            "   Nome da Cidade  UF  Habitantes (M)  Capital\n",
            "0       São Paulo  SP            12.3     True\n",
            "1  Rio de Janeiro  RJ             6.7     True\n",
            "2  Belo Horizonte  MG             2.5     True\n"
          ]
        }
      ]
    },
    {
      "cell_type": "code",
      "source": [
        "# Exiba 2 linhas aleatórias\n",
        "print(\"\\n2 linhas aleatórias:\")\n",
        "print(cidades_br.sample(2))"
      ],
      "metadata": {
        "colab": {
          "base_uri": "https://localhost:8080/"
        },
        "id": "Mcp1w-7wFs-6",
        "outputId": "dc98f0e0-dcb9-47f0-be15-ca7cd5a6e772"
      },
      "execution_count": 37,
      "outputs": [
        {
          "output_type": "stream",
          "name": "stdout",
          "text": [
            "\n",
            "2 linhas aleatórias:\n",
            "   Nome da Cidade  UF  Habitantes (M)  Capital\n",
            "1  Rio de Janeiro  RJ             6.7     True\n",
            "3    Porto Alegre  RS             1.5    False\n"
          ]
        }
      ]
    },
    {
      "cell_type": "code",
      "source": [
        "# Acesse e exiba apenas a coluna 'Cidade'\n",
        "print(\"\\nColuna 'Cidade':\")\n",
        "print(cidades_br['Cidade'])"
      ],
      "metadata": {
        "colab": {
          "base_uri": "https://localhost:8080/"
        },
        "id": "Fny_icgoFvvn",
        "outputId": "24d5e488-7851-4590-caef-9dbbd6097646"
      },
      "execution_count": 13,
      "outputs": [
        {
          "output_type": "stream",
          "name": "stdout",
          "text": [
            "\n",
            "Coluna 'Cidade':\n",
            "0         São Paulo\n",
            "1    Rio de Janeiro\n",
            "2    Belo Horizonte\n",
            "3      Porto Alegre\n",
            "4          Curitiba\n",
            "Name: Cidade, dtype: object\n"
          ]
        }
      ]
    },
    {
      "cell_type": "code",
      "source": [
        "# Acesse e exiba as colunas 'Estado' e 'População (milhões)'\n",
        "print(\"\\nColunas 'Estado' e 'População (milhões)':\")\n",
        "print(cidades_br[['Estado', 'População (milhões)']])"
      ],
      "metadata": {
        "colab": {
          "base_uri": "https://localhost:8080/"
        },
        "id": "dWiZtPk3Fzwx",
        "outputId": "478bfc0a-7775-4556-f885-f8dfd580faf1"
      },
      "execution_count": 14,
      "outputs": [
        {
          "output_type": "stream",
          "name": "stdout",
          "text": [
            "\n",
            "Colunas 'Estado' e 'População (milhões)':\n",
            "  Estado  População (milhões)\n",
            "0     SP                 12.3\n",
            "1     RJ                  6.7\n",
            "2     MG                  2.5\n",
            "3     RS                  1.5\n",
            "4     PR                  1.9\n"
          ]
        }
      ]
    },
    {
      "cell_type": "code",
      "source": [
        "# Adicione uma nova coluna 'Área (km²)'\n",
        "cidades_br['Área (km²)'] = [1521, 1200, 331, 496, 435]\n",
        "print(\"\\nDataFrame com nova coluna 'Área (km²)':\")\n",
        "print(cidades_br)"
      ],
      "metadata": {
        "colab": {
          "base_uri": "https://localhost:8080/"
        },
        "id": "gk7WlPuxF5TU",
        "outputId": "bb51278f-be95-4da7-f95b-95228a1806cc"
      },
      "execution_count": 15,
      "outputs": [
        {
          "output_type": "stream",
          "name": "stdout",
          "text": [
            "\n",
            "DataFrame com nova coluna 'Área (km²)':\n",
            "           Cidade Estado  População (milhões)  Capital  Área (km²)\n",
            "0       São Paulo     SP                 12.3     True        1521\n",
            "1  Rio de Janeiro     RJ                  6.7     True        1200\n",
            "2  Belo Horizonte     MG                  2.5     True         331\n",
            "3    Porto Alegre     RS                  1.5     True         496\n",
            "4        Curitiba     PR                  1.9     True         435\n"
          ]
        }
      ]
    },
    {
      "cell_type": "code",
      "source": [
        "# Altere 'Capital' para False nas cidades indicadas\n",
        "cidades_br.loc[cidades_br['Cidade'].isin(['Porto Alegre', 'Curitiba']), 'Capital'] = False\n",
        "print(\"\\nDataFrame com alteração na coluna 'Capital':\")\n",
        "print(cidades_br)"
      ],
      "metadata": {
        "colab": {
          "base_uri": "https://localhost:8080/"
        },
        "id": "mcwdf4PNF7Z5",
        "outputId": "d8d263d3-4994-4712-8190-813cf2843baa"
      },
      "execution_count": 16,
      "outputs": [
        {
          "output_type": "stream",
          "name": "stdout",
          "text": [
            "\n",
            "DataFrame com alteração na coluna 'Capital':\n",
            "           Cidade Estado  População (milhões)  Capital  Área (km²)\n",
            "0       São Paulo     SP                 12.3     True        1521\n",
            "1  Rio de Janeiro     RJ                  6.7     True        1200\n",
            "2  Belo Horizonte     MG                  2.5     True         331\n",
            "3    Porto Alegre     RS                  1.5    False         496\n",
            "4        Curitiba     PR                  1.9    False         435\n"
          ]
        }
      ]
    },
    {
      "cell_type": "code",
      "source": [
        "# Renomeie as colunas\n",
        "cidades_br.columns = ['Nome da Cidade', 'UF', 'Habitantes (M)', 'Capital', 'Tamanho (km²)']\n",
        "print(\"\\nDataFrame com colunas renomeadas:\")\n",
        "print(cidades_br)"
      ],
      "metadata": {
        "colab": {
          "base_uri": "https://localhost:8080/"
        },
        "id": "MVoB90OFGAxW",
        "outputId": "90b800d0-3839-424b-a776-82919c540562"
      },
      "execution_count": 18,
      "outputs": [
        {
          "output_type": "stream",
          "name": "stdout",
          "text": [
            "\n",
            "DataFrame com colunas renomeadas:\n",
            "   Nome da Cidade  UF  Habitantes (M)  Capital  Tamanho (km²)\n",
            "0       São Paulo  SP            12.3     True           1521\n",
            "1  Rio de Janeiro  RJ             6.7     True           1200\n",
            "2  Belo Horizonte  MG             2.5     True            331\n",
            "3    Porto Alegre  RS             1.5    False            496\n",
            "4        Curitiba  PR             1.9    False            435\n"
          ]
        }
      ]
    },
    {
      "cell_type": "code",
      "source": [
        "# Resumo estatístico com describe()\n",
        "print(\"\\nResumo estatístico:\")\n",
        "print(cidades_br.describe())"
      ],
      "metadata": {
        "colab": {
          "base_uri": "https://localhost:8080/"
        },
        "id": "xSvn1ZsPGOJa",
        "outputId": "55449856-f970-403b-8025-c4b16f679d8f"
      },
      "execution_count": 19,
      "outputs": [
        {
          "output_type": "stream",
          "name": "stdout",
          "text": [
            "\n",
            "Resumo estatístico:\n",
            "       Habitantes (M)  Tamanho (km²)\n",
            "count        5.000000       5.000000\n",
            "mean         4.980000     796.600000\n",
            "std          4.590425     530.420871\n",
            "min          1.500000     331.000000\n",
            "25%          1.900000     435.000000\n",
            "50%          2.500000     496.000000\n",
            "75%          6.700000    1200.000000\n",
            "max         12.300000    1521.000000\n"
          ]
        }
      ]
    },
    {
      "cell_type": "code",
      "source": [
        "# Cidades com população > 2.0 milhões\n",
        "print(\"\\nCidades com mais de 2.0 milhões de habitantes:\")\n",
        "print(cidades_br[cidades_br['Habitantes (M)'] > 2.0])"
      ],
      "metadata": {
        "colab": {
          "base_uri": "https://localhost:8080/"
        },
        "id": "g8U6pRoIGXgw",
        "outputId": "ad6b5c6c-2ca6-4094-d2ae-632977cb3ca5"
      },
      "execution_count": 20,
      "outputs": [
        {
          "output_type": "stream",
          "name": "stdout",
          "text": [
            "\n",
            "Cidades com mais de 2.0 milhões de habitantes:\n",
            "   Nome da Cidade  UF  Habitantes (M)  Capital  Tamanho (km²)\n",
            "0       São Paulo  SP            12.3     True           1521\n",
            "1  Rio de Janeiro  RJ             6.7     True           1200\n",
            "2  Belo Horizonte  MG             2.5     True            331\n"
          ]
        }
      ]
    },
    {
      "cell_type": "code",
      "source": [
        "# Exclua a coluna 'Tamanho (km²)'\n",
        "cidades_br = cidades_br.drop(columns=['Tamanho (km²)'])\n",
        "print(\"\\nDataFrame após excluir 'Tamanho (km²)':\")\n",
        "print(cidades_br)"
      ],
      "metadata": {
        "colab": {
          "base_uri": "https://localhost:8080/"
        },
        "id": "clzT2MtLGfg9",
        "outputId": "36864085-4352-4bce-f722-e38dcdd30820"
      },
      "execution_count": 21,
      "outputs": [
        {
          "output_type": "stream",
          "name": "stdout",
          "text": [
            "\n",
            "DataFrame após excluir 'Tamanho (km²)':\n",
            "   Nome da Cidade  UF  Habitantes (M)  Capital\n",
            "0       São Paulo  SP            12.3     True\n",
            "1  Rio de Janeiro  RJ             6.7     True\n",
            "2  Belo Horizonte  MG             2.5     True\n",
            "3    Porto Alegre  RS             1.5    False\n",
            "4        Curitiba  PR             1.9    False\n"
          ]
        }
      ]
    },
    {
      "cell_type": "code",
      "source": [
        "# Exiba a primeira linha com iloc\n",
        "print(\"\\nPrimeira linha com iloc:\")\n",
        "print(cidades_br.iloc[0])"
      ],
      "metadata": {
        "colab": {
          "base_uri": "https://localhost:8080/"
        },
        "id": "BSf_FmRkGi5O",
        "outputId": "a8a58d11-9302-43a1-80cf-9ef4fb464ae1"
      },
      "execution_count": 22,
      "outputs": [
        {
          "output_type": "stream",
          "name": "stdout",
          "text": [
            "\n",
            "Primeira linha com iloc:\n",
            "Nome da Cidade    São Paulo\n",
            "UF                       SP\n",
            "Habitantes (M)         12.3\n",
            "Capital                True\n",
            "Name: 0, dtype: object\n"
          ]
        }
      ]
    },
    {
      "cell_type": "code",
      "source": [
        "# Exiba as linhas de índice 1 a 3 com iloc\n",
        "print(\"\\nLinhas de índice 1 a 3 com iloc:\")\n",
        "print(cidades_br.iloc[1:4])"
      ],
      "metadata": {
        "colab": {
          "base_uri": "https://localhost:8080/"
        },
        "id": "3Z3KEKN9GnvV",
        "outputId": "c7249228-f799-4b45-c1bf-c3c3032e244e"
      },
      "execution_count": 23,
      "outputs": [
        {
          "output_type": "stream",
          "name": "stdout",
          "text": [
            "\n",
            "Linhas de índice 1 a 3 com iloc:\n",
            "   Nome da Cidade  UF  Habitantes (M)  Capital\n",
            "1  Rio de Janeiro  RJ             6.7     True\n",
            "2  Belo Horizonte  MG             2.5     True\n",
            "3    Porto Alegre  RS             1.5    False\n"
          ]
        }
      ]
    },
    {
      "cell_type": "code",
      "source": [
        "# Exiba colunas 'UF' e 'Habitantes (M)' das linhas 0 e 4 com iloc\n",
        "print(\"\\nColunas 'UF' e 'Habitantes (M)' das linhas 0 e 4:\")\n",
        "print(cidades_br.iloc[[0, 4]][['UF', 'Habitantes (M)']])"
      ],
      "metadata": {
        "colab": {
          "base_uri": "https://localhost:8080/"
        },
        "id": "wAwxrwlKGq2-",
        "outputId": "6395b165-1f52-419b-f514-399da4f81be9"
      },
      "execution_count": 24,
      "outputs": [
        {
          "output_type": "stream",
          "name": "stdout",
          "text": [
            "\n",
            "Colunas 'UF' e 'Habitantes (M)' das linhas 0 e 4:\n",
            "   UF  Habitantes (M)\n",
            "0  SP            12.3\n",
            "4  PR             1.9\n"
          ]
        }
      ]
    }
  ]
}