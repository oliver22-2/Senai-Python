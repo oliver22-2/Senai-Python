{
  "nbformat": 4,
  "nbformat_minor": 0,
  "metadata": {
    "colab": {
      "provenance": [],
      "authorship_tag": "ABX9TyOuRynFEDbLtBWc8pMJSIlL",
      "include_colab_link": true
    },
    "kernelspec": {
      "name": "python3",
      "display_name": "Python 3"
    },
    "language_info": {
      "name": "python"
    }
  },
  "cells": [
    {
      "cell_type": "markdown",
      "metadata": {
        "id": "view-in-github",
        "colab_type": "text"
      },
      "source": [
        "<a href=\"https://colab.research.google.com/github/oliver22-2/aula-1/blob/main/Exercisio2.ipynb\" target=\"_parent\"><img src=\"https://colab.research.google.com/assets/colab-badge.svg\" alt=\"Open In Colab\"/></a>"
      ]
    },
    {
      "cell_type": "code",
      "source": [
        "# programa para calcular a media de 4 notas\n",
        "\n",
        "nota1 = float(input('Digite a nota 1:'))\n",
        "nota2 = float(input('Digite a nota 2:'))\n",
        "nota3 = float(input('Digite a nota 3:'))\n",
        "nota4 = float(input('Digite a nota 4:'))\n",
        "\n",
        "media = (nota1 + nota2 + nota3 + nota4) / 4\n",
        "\n",
        "print('A média é:', media)\n",
        "\n",
        "if media == 7 or media > 7.1:\n",
        "    print('Aprovado')\n",
        "elif media == 5 or media < 6.9:\n",
        "    print('Recuperação')\n",
        "elif media < 5:\n",
        "    print('Reprovado')"
      ],
      "metadata": {
        "colab": {
          "base_uri": "https://localhost:8080/"
        },
        "id": "2LgwtVuw8kKu",
        "outputId": "c2a1f64a-df08-4f35-aa3c-779194880262"
      },
      "execution_count": 62,
      "outputs": [
        {
          "output_type": "stream",
          "name": "stdout",
          "text": [
            "Digite a nota 1:8\n",
            "Digite a nota 2:8\n",
            "Digite a nota 3:8\n",
            "Digite a nota 4:8\n",
            "A média é: 8.0\n",
            "Aprovado\n"
          ]
        }
      ]
    }
  ]
}