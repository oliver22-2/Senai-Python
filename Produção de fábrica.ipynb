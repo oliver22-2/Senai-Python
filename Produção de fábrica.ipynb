{
  "nbformat": 4,
  "nbformat_minor": 0,
  "metadata": {
    "colab": {
      "provenance": [],
      "authorship_tag": "ABX9TyM6ntDRxLRxusbGdT1IIQqT",
      "include_colab_link": true
    },
    "kernelspec": {
      "name": "python3",
      "display_name": "Python 3"
    },
    "language_info": {
      "name": "python"
    }
  },
  "cells": [
    {
      "cell_type": "markdown",
      "metadata": {
        "id": "view-in-github",
        "colab_type": "text"
      },
      "source": [
        "<a href=\"https://colab.research.google.com/github/oliver22-2/Senai-Python/blob/main/Produ%C3%A7%C3%A3o%20de%20f%C3%A1brica.ipynb\" target=\"_parent\"><img src=\"https://colab.research.google.com/assets/colab-badge.svg\" alt=\"Open In Colab\"/></a>"
      ]
    },
    {
      "cell_type": "code",
      "source": [
        "import numpy as np"
      ],
      "metadata": {
        "id": "jbELAl0dom45"
      },
      "execution_count": 44,
      "outputs": []
    },
    {
      "cell_type": "code",
      "source": [
        "# Produção da fábrica\n",
        "producao = np.array([\n",
        "    [120, 150, 130],  # Semana 1\n",
        "    [135, 160, 120],  # Semana 2\n",
        "    [140, 170, 125],  # Semana 3\n",
        "    [150, 180, 135],  # Semana 4\n",
        "    ])\n",
        "\n",
        "pecas = ['A', 'B', 'C']\n",
        "\n",
        "# Total de peças produzidas por semana\n",
        "total_por_semana = np.sum(producao, axis=1)\n",
        "print(\"Total por semana:\", total_por_semana)\n",
        "\n",
        "# Produção total de cada tipo de peça\n",
        "producao_total = np.sum(producao, axis=0)\n",
        "print(\"Produção total por peça:\", producao_total)\n",
        "\n",
        "# Semana com maior produção total\n",
        "semana_maior_producao = np.argmax(total_por_semana) + 1\n",
        "print(\"Semana com maior produção total: Semana\", semana_maior_producao)\n",
        "\n",
        "# Média semanal de produção por tipo de peça\n",
        "media_semanal = np.mean(producao, axis=0)\n",
        "print(\"Média semanal de produção por peça:\", media_semanal)\n",
        "\n",
        "# Peça com maior média de produção\n",
        "peca_maior_media = np.argmax(media_semanal)\n",
        "print(\"Peça com maior média de produção:\", pecas[peca_maior_media])\n",
        "\n",
        "# Crescimento percentual semanal da produção da peça A\n",
        "crescimento_a = np.diff(producao[:, 0]) / producao[:, 0][:-1] * 100\n",
        "print(\"Crescimento percentual semanal da peça A:\", crescimento_a)\n",
        "\n",
        "# Semanas em que alguma peça foi produzida abaixo da média\n",
        "print(\"Semanas com produção abaixo da média:\")\n",
        "for semana_idx, semana in enumerate(producao):\n",
        "    for i, valor in enumerate(semana):\n",
        "        if valor < media_por_peca[i]:\n",
        "            print(f\"Semana {semana_idx+1}: Peça {pecas[i]} ({valor}) < média ({media_por_peca[i]:.2f})\")"
      ],
      "metadata": {
        "colab": {
          "base_uri": "https://localhost:8080/"
        },
        "id": "x3VDQ-DTqMwf",
        "outputId": "659fd20f-0e94-49fa-94e9-8e8b26b2bdb5"
      },
      "execution_count": 50,
      "outputs": [
        {
          "output_type": "stream",
          "name": "stdout",
          "text": [
            "Total por semana: [400 415 435 465]\n",
            "Produção total por peça: [545 660 510]\n",
            "Semana com maior produção total: Semana 4\n",
            "Média semanal de produção por peça: [136.25 165.   127.5 ]\n",
            "Peça com maior média de produção: B\n",
            "Crescimento percentual semanal da peça A: [12.5         3.7037037   7.14285714]\n",
            "Semanas com produção abaixo da média:\n",
            "Semana 1: Peça A (120) < média (136.25)\n",
            "Semana 1: Peça B (150) < média (165.00)\n",
            "Semana 2: Peça A (135) < média (136.25)\n",
            "Semana 2: Peça B (160) < média (165.00)\n",
            "Semana 2: Peça C (120) < média (127.50)\n",
            "Semana 3: Peça C (125) < média (127.50)\n"
          ]
        }
      ]
    }
  ]
}