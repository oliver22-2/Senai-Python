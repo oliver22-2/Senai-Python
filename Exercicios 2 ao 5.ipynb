{
  "nbformat": 4,
  "nbformat_minor": 0,
  "metadata": {
    "colab": {
      "provenance": [],
      "authorship_tag": "ABX9TyO692zaDLfnhxbIb4MihaAE",
      "include_colab_link": true
    },
    "kernelspec": {
      "name": "python3",
      "display_name": "Python 3"
    },
    "language_info": {
      "name": "python"
    }
  },
  "cells": [
    {
      "cell_type": "markdown",
      "metadata": {
        "id": "view-in-github",
        "colab_type": "text"
      },
      "source": [
        "<a href=\"https://colab.research.google.com/github/oliver22-2/Senai-Python/blob/main/Exercicios%202%20ao%205.ipynb\" target=\"_parent\"><img src=\"https://colab.research.google.com/assets/colab-badge.svg\" alt=\"Open In Colab\"/></a>"
      ]
    },
    {
      "cell_type": "code",
      "source": [
        "import statistics as st\n",
        "import math as mt"
      ],
      "metadata": {
        "id": "SfkgJvOGiDoa"
      },
      "execution_count": 99,
      "outputs": []
    },
    {
      "cell_type": "code",
      "source": [
        "# programa para calcular a media de 4 notas (exercicio 2)\n",
        "\n",
        "nota1 = float(input('Digite a nota 1:'))\n",
        "nota2 = float(input('Digite a nota 2:'))\n",
        "nota3 = float(input('Digite a nota 3:'))\n",
        "nota4 = float(input('Digite a nota 4:'))\n",
        "\n",
        "media = (nota1 + nota2 + nota3 + nota4) / 4\n",
        "\n",
        "print('A média é:', media)\n",
        "\n",
        "if media == 7 or media > 7.1:\n",
        "    print('Aprovado')\n",
        "elif media == 5 or media < 6.9:\n",
        "    print('Recuperação')\n",
        "elif media < 5:\n",
        "    print('Reprovado')"
      ],
      "metadata": {
        "id": "2LgwtVuw8kKu"
      },
      "execution_count": null,
      "outputs": []
    },
    {
      "cell_type": "code",
      "source": [
        "#Somar valores digitados até o usuário digitar 0 (exercicio 3)\n",
        "valores = []\n",
        "soma = 0\n",
        "\n",
        "while True:\n",
        "    # Solicita ao usuário que digite um valor\n",
        "    valor = float(input(\"Digite um valor (0 para sair): \"))\n",
        "\n",
        "    # Verifica se o valor digitado é zero para encerrar o loop\n",
        "    if valor == 0:\n",
        "        break\n",
        "\n",
        "    # Adiciona o valor à lista e soma para a média\n",
        "    valores.append(valor)\n",
        "    soma += valor\n",
        "\n",
        "# Exibe os valores digitados\n",
        "print(\"Valores digitados:\", valores)\n",
        "\n",
        "# Calcula e exibe a média, se houver valores digitados\n",
        "if valores:\n",
        "    media = soma / len(valores)\n",
        "    print(\"Média dos valores:\", media)\n",
        "else:\n",
        "    print(\"Nenhum valor foi digitado.\")"
      ],
      "metadata": {
        "colab": {
          "base_uri": "https://localhost:8080/"
        },
        "id": "KHVdlcKTfVKF",
        "outputId": "a1612f25-9d9d-4e75-acbf-655b945450a7"
      },
      "execution_count": 104,
      "outputs": [
        {
          "output_type": "stream",
          "name": "stdout",
          "text": [
            "Digite um valor (0 para sair): 2\n",
            "Digite um valor (0 para sair): 3\n",
            "Digite um valor (0 para sair): 24\n",
            "Digite um valor (0 para sair): 299\n",
            "Digite um valor (0 para sair): 10\n",
            "Digite um valor (0 para sair): 22\n",
            "Digite um valor (0 para sair): 0\n",
            "Valores digitados: [2.0, 3.0, 24.0, 299.0, 10.0, 22.0]\n",
            "Média dos valores: 60.0\n"
          ]
        }
      ]
    },
    {
      "cell_type": "code",
      "source": [
        "#Crie um programa que irá receber a lista de valores abaixo (exercicio 4)\n",
        "\n",
        "lista_de_valores = [1, 7, 3, 8, 6, 1, 7, 7, 0, 3, 6, 7, 1, 7, 8, 0, 7, 3, 1, 6, 3, 1, 3, 7, 6, 9, 7, 7, 3, 7, 0, 7, 1, 7, 9]\n",
        "\n",
        "contagem = Counter(lista_de_valores)\n",
        "\n",
        "moda = contagem.most_common(1)[0][0]\n",
        "frequencia_moda = contagem.most_common(1)[0][1]\n",
        "\n",
        "print(f\"A moda da lista é:\", moda)\n",
        "print(f\"A moda aparece {frequencia_moda} vezes na lista.\")"
      ],
      "metadata": {
        "colab": {
          "base_uri": "https://localhost:8080/"
        },
        "id": "FNqRU13kfeeh",
        "outputId": "86026c0a-cc83-496a-e527-a8b390887acb"
      },
      "execution_count": 103,
      "outputs": [
        {
          "output_type": "stream",
          "name": "stdout",
          "text": [
            "A moda da lista é: 7\n",
            "A moda aparece 12 vezes na lista.\n"
          ]
        }
      ]
    },
    {
      "cell_type": "code",
      "source": [
        "#Crie um programa que receber a lista de valores abaixo (exercicio 5)\n",
        "lista_de_valores = [35, 37, 36, 34, 38, 35, 37, 37, 33, 36,\n",
        "                    38, 37, 35, 37, 34, 33, 37, 36, 35, 38, 36, 35, 36, 37, 38,\n",
        "                    39, 37, 37, 36, 37, 33, 37, 35, 37, 39]\n",
        "\n",
        "# calcular a variancia\n",
        "variancia = st.variance(lista_de_valores)\n",
        "\n",
        "# calcular o desvio padrão\n",
        "desvio_padrao = st.stdev(lista_de_valores)\n",
        "\n",
        "print(\"A variância da lista é:\", variancia)\n",
        "print(\"O desvio padrão da lista é:\", desvio_padrao)"
      ],
      "metadata": {
        "colab": {
          "base_uri": "https://localhost:8080/"
        },
        "id": "sQ8IeHglheuU",
        "outputId": "e53dbdf8-0f39-46e1-f0c0-bd4b520c5ac1"
      },
      "execution_count": 102,
      "outputs": [
        {
          "output_type": "stream",
          "name": "stdout",
          "text": [
            "A variância da lista é: 2.5176470588235293\n",
            "O desvio padrão da lista é: 1.5867095067540022\n"
          ]
        }
      ]
    }
  ]
}