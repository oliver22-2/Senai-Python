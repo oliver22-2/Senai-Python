{
  "nbformat": 4,
  "nbformat_minor": 0,
  "metadata": {
    "colab": {
      "provenance": [],
      "authorship_tag": "ABX9TyOrzDL8AoTlCFF/4MgDk4ks",
      "include_colab_link": true
    },
    "kernelspec": {
      "name": "python3",
      "display_name": "Python 3"
    },
    "language_info": {
      "name": "python"
    }
  },
  "cells": [
    {
      "cell_type": "markdown",
      "metadata": {
        "id": "view-in-github",
        "colab_type": "text"
      },
      "source": [
        "<a href=\"https://colab.research.google.com/github/oliver22-2/Senai-Python/blob/main/Temperatura%207%20dias.ipynb\" target=\"_parent\"><img src=\"https://colab.research.google.com/assets/colab-badge.svg\" alt=\"Open In Colab\"/></a>"
      ]
    },
    {
      "cell_type": "code",
      "execution_count": 1,
      "metadata": {
        "id": "V4wvvp16jXko"
      },
      "outputs": [],
      "source": [
        "import numpy as np"
      ]
    },
    {
      "cell_type": "code",
      "source": [
        "# Temperaturas dos 7 dias da semana\n",
        "temperaturas = np.array([22.5, 24.0, 19.8, 21.4, 23.0, 25.1, 20.7])\n",
        "dias = np.array([\"Seg\", \"Ter\", \"Qua\", \"Qui\", \"Sex\", \"Sáb\", \"Dom\"])\n",
        "\n",
        "# Calcular a temperatura média da semana\n",
        "temp_media = np.mean(temperaturas)\n",
        "print(f\"Temperatura média da semana: {temp_media}°C\")\n",
        "\n",
        "# Temperatura máxima e dia\n",
        "temp_max = temperaturas.max()\n",
        "indice_max = temperaturas.argmax()\n",
        "dia = dias[indice_max]\n",
        "print(f\"Temperatura máxima: {temp_max}°C no dia {dia}\")\n",
        "\n",
        "# Dias acima de média\n",
        "acima_da_media = temperaturas > temp_media\n",
        "dias_acima = dias[acima_da_media]\n",
        "print(\"Dias com temperatura acima da média:\", dias_acima)\n",
        "\n",
        "# Temperatura  em fahrenheit\n",
        "fahrenheit = temperaturas*1.8+32\n",
        "print(\"Temperaturas em Fahrenheit:\", fahrenheit)\n",
        "\n",
        "#Trocar a temp de domingo para 22°C\n",
        "temperaturas[6] = 22\n",
        "\n",
        "#Recalcular nova média\n",
        "nova_media = temperaturas.mean()\n",
        "print(\"Nova média após mudar domingo para 22.0°C:\", round(nova_media, 2), \"°C\")"
      ],
      "metadata": {
        "colab": {
          "base_uri": "https://localhost:8080/"
        },
        "id": "Z6ueHzxik6Ro",
        "outputId": "9a7daf8c-de08-47ca-c11d-070e18e4d19a"
      },
      "execution_count": 10,
      "outputs": [
        {
          "output_type": "stream",
          "name": "stdout",
          "text": [
            "Temperatura média da semana: 22.357142857142854°C\n",
            "Temperatura máxima: 25.1°C no dia Sáb\n",
            "Dias com temperatura acima da média: ['Seg' 'Ter' 'Sex' 'Sáb']\n",
            "Temperaturas em Fahrenheit: [72.5  75.2  67.64 70.52 73.4  77.18 69.26]\n",
            "Nova média após mudar domingo para 22.0°C: 22.54 °C\n"
          ]
        }
      ]
    }
  ]
}